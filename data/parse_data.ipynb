{
 "cells": [
  {
   "cell_type": "code",
   "id": "initial_id",
   "metadata": {
    "collapsed": true,
    "ExecuteTime": {
     "end_time": "2025-04-06T19:58:50.867614Z",
     "start_time": "2025-04-06T19:58:50.843378Z"
    }
   },
   "source": [
    "import pandas as pd\n",
    "from imdb import IMDb\n",
    "from tqdm import tqdm"
   ],
   "outputs": [],
   "execution_count": 6
  },
  {
   "metadata": {},
   "cell_type": "markdown",
   "source": [
    "Надо достать:\n",
    "- для фильмов:\n",
    "    * Название,\n",
    "    * Дату выхода,\n",
    "    * Слоган,\n",
    "    * Бюджет,\n",
    "    * Выручку,\n",
    "    * Продолжительность,\n",
    "    * Рейтинг,\n",
    "    * Описание,\n",
    "    * Жанры,\n",
    "    * Страны,\n",
    "    * Персонал: id человека, его роль при создании фильма, исполняемый персонаж при наличии.\n",
    "- для сериалов:\n",
    "    * Название,\n",
    "    * Дату выхода,\n",
    "    * Слоган,\n",
    "    * Бюджет,\n",
    "    * Рейтинг,\n",
    "    * Описание,\n",
    "    * Жанры,\n",
    "    * Страны,\n",
    "    * Персонал.\n",
    "    * Для каждого эпизода:\n",
    "        * Номер сезона,\n",
    "        * Номер эпизода в сезоне,\n",
    "        * Название,\n",
    "        * Дата выхода,\n",
    "        * Продолжительность,\n",
    "        * Рейтинг.\n",
    "- Для персонала:\n",
    "    * Имя,\n",
    "    * Дату рождения,\n",
    "    * Дату смерти (при наличии),\n",
    "    * Место рождения,\n",
    "    * Описание."
   ],
   "id": "f721b54064641389"
  },
  {
   "metadata": {
    "ExecuteTime": {
     "end_time": "2025-04-06T19:58:50.875697Z",
     "start_time": "2025-04-06T19:58:50.871733Z"
    }
   },
   "cell_type": "code",
   "source": "ia = IMDb()",
   "id": "f783acba866784e1",
   "outputs": [],
   "execution_count": 7
  },
  {
   "metadata": {
    "ExecuteTime": {
     "end_time": "2025-04-06T19:58:50.898816Z",
     "start_time": "2025-04-06T19:58:50.886110Z"
    }
   },
   "cell_type": "code",
   "source": [
    "file_path = 'data.csv'\n",
    "df = pd.read_csv(file_path)"
   ],
   "id": "3d48ac78cca01a25",
   "outputs": [],
   "execution_count": 8
  },
  {
   "metadata": {
    "ExecuteTime": {
     "end_time": "2025-04-06T19:58:50.909Z",
     "start_time": "2025-04-06T19:58:50.906436Z"
    }
   },
   "cell_type": "code",
   "source": [
    "movie_results = []\n",
    "personnel_data = []"
   ],
   "id": "6d6cbd1c0eaeceb5",
   "outputs": [],
   "execution_count": 9
  },
  {
   "metadata": {
    "ExecuteTime": {
     "end_time": "2025-04-06T20:15:00.804122Z",
     "start_time": "2025-04-06T20:14:53.512512Z"
    }
   },
   "cell_type": "code",
   "source": [
    "for index, row in tqdm(df.iterrows()):\n",
    "    movie_id = row['Const'][2:]  # Убираем префикс 'tt'\n",
    "    movie = ia.get_movie(movie_id)\n",
    "    ia.update(movie, info=['main', 'plot', 'taglines'])\n",
    "\n",
    "    # Сбор данных о фильме\n",
    "    movie_data = {\n",
    "        'MovieID': movie_id,\n",
    "        'Title': movie.get('title'),\n",
    "        'Release Date': movie.get('year'),\n",
    "        'Tagline': movie.get('taglines')[0] if movie.get('taglines') else None,\n",
    "        'Budget': movie.get('box office', {}).get('Budget'),\n",
    "        'Revenue': movie.get('box office', {}).get('Cumulative Worldwide Gross'),\n",
    "        'Duration': movie.get('runtimes')[0] if movie.get('runtimes') else None,\n",
    "        'Rating': movie.get('rating'),\n",
    "        'Description': movie.get('plot')[0].split('::')[0] if movie.get('plot') else None,\n",
    "        'Genres': movie.get('genres', []),\n",
    "        'Countries': movie.get('countries', []),\n",
    "    }\n",
    "    movie_results.append(movie_data)\n",
    "\n",
    "    break\n",
    "    # Сбор данных о персонале\n",
    "    for role, role_key in [('Director', 'directors'), ('Writer', 'writers'), ('Actor', 'cast')]:\n",
    "        for person in movie.get(role_key, []):\n",
    "            personnel_data.append({\n",
    "                'PersonID': person.personID,\n",
    "                'Name': str(person),\n",
    "                'Role': role,\n",
    "                'MovieID': movie_id,\n",
    "                'Character': ', '.join(person.currentRole) if getattr(person, 'currentRole', None) else None\n",
    "            })\n",
    "    break"
   ],
   "id": "26d9013e551f3cf4",
   "outputs": [
    {
     "name": "stderr",
     "output_type": "stream",
     "text": [
      "0it [00:07, ?it/s]\n"
     ]
    }
   ],
   "execution_count": 21
  },
  {
   "metadata": {
    "ExecuteTime": {
     "end_time": "2025-04-06T20:15:00.827062Z",
     "start_time": "2025-04-06T20:15:00.822462Z"
    }
   },
   "cell_type": "code",
   "source": "movie_results",
   "id": "62954d5b3db35424",
   "outputs": [
    {
     "data": {
      "text/plain": [
       "[{'MovieID': '0816692',\n",
       "  'Title': 'Interstellar',\n",
       "  'Release Date': 2014,\n",
       "  'Tagline': 'Mankind was born on Earth. It was never meant to die here.',\n",
       "  'Budget': '$165,000,000 (estimated)',\n",
       "  'Revenue': '$675,020,017',\n",
       "  'Duration': '169',\n",
       "  'Rating': 8.7,\n",
       "  'Description': 'When Earth becomes uninhabitable in the future, a farmer and ex-NASA pilot, Joseph Cooper, is tasked to pilot a spacecraft, along with a team of researchers, to find a new planet for humans.',\n",
       "  'Genres': 'Adventure, Drama, Sci-Fi',\n",
       "  'Countries': 'United States, United Kingdom, Canada'},\n",
       " {'MovieID': '0816692',\n",
       "  'Title': 'Interstellar',\n",
       "  'Release Date': 2014,\n",
       "  'Tagline': 'Mankind was born on Earth. It was never meant to die here.',\n",
       "  'Budget': '$165,000,000 (estimated)',\n",
       "  'Revenue': '$675,020,017',\n",
       "  'Duration': '169',\n",
       "  'Rating': 8.7,\n",
       "  'Description': 'When Earth becomes uninhabitable in the future, a farmer and ex-NASA pilot, Joseph Cooper, is tasked to pilot a spacecraft, along with a team of researchers, to find a new planet for humans.',\n",
       "  'Genres': 'Adventure, Drama, Sci-Fi',\n",
       "  'Countries': 'United States, United Kingdom, Canada'},\n",
       " {'MovieID': '0816692',\n",
       "  'Title': 'Interstellar',\n",
       "  'Release Date': 2014,\n",
       "  'Tagline': 'Mankind was born on Earth. It was never meant to die here.',\n",
       "  'Budget': '$165,000,000 (estimated)',\n",
       "  'Revenue': '$675,020,017',\n",
       "  'Duration': '169',\n",
       "  'Rating': 8.7,\n",
       "  'Description': 'When Earth becomes uninhabitable in the future, a farmer and ex-NASA pilot, Joseph Cooper, is tasked to pilot a spacecraft, along with a team of researchers, to find a new planet for humans.',\n",
       "  'Genres': 'Adventure, Drama, Sci-Fi',\n",
       "  'Countries': 'United States, United Kingdom, Canada'},\n",
       " {'MovieID': '0816692',\n",
       "  'Title': 'Interstellar',\n",
       "  'Release Date': 2014,\n",
       "  'Tagline': 'Mankind was born on Earth. It was never meant to die here.',\n",
       "  'Budget': '$165,000,000 (estimated)',\n",
       "  'Revenue': '$675,020,017',\n",
       "  'Duration': '169',\n",
       "  'Rating': 8.7,\n",
       "  'Description': 'When Earth becomes uninhabitable in the future, a farmer and ex-NASA pilot, Joseph Cooper, is tasked to pilot a spacecraft, along with a team of researchers, to find a new planet for humans.',\n",
       "  'Genres': ['Adventure', 'Drama', 'Sci-Fi'],\n",
       "  'Countries': 'United States, United Kingdom, Canada'}]"
      ]
     },
     "execution_count": 22,
     "metadata": {},
     "output_type": "execute_result"
    }
   ],
   "execution_count": 22
  },
  {
   "metadata": {
    "ExecuteTime": {
     "end_time": "2025-04-06T20:07:18.797921Z",
     "start_time": "2025-04-06T20:07:18.778161Z"
    }
   },
   "cell_type": "code",
   "source": "movie.infoset2keys",
   "id": "4c0c7729c99e5cb6",
   "outputs": [
    {
     "data": {
      "text/plain": [
       "{'main': ['original title',\n",
       "  'localized title',\n",
       "  'cast',\n",
       "  'genres',\n",
       "  'runtimes',\n",
       "  'countries',\n",
       "  'country codes',\n",
       "  'language codes',\n",
       "  'color info',\n",
       "  'aspect ratio',\n",
       "  'sound mix',\n",
       "  'box office',\n",
       "  'certificates',\n",
       "  'original air date',\n",
       "  'rating',\n",
       "  'votes',\n",
       "  'cover url',\n",
       "  'imdbID',\n",
       "  'videos',\n",
       "  'plot outline',\n",
       "  'languages',\n",
       "  'title',\n",
       "  'year',\n",
       "  'kind',\n",
       "  'director',\n",
       "  'writer',\n",
       "  'producer',\n",
       "  'composer',\n",
       "  'cinematographer',\n",
       "  'editor',\n",
       "  'editorial department',\n",
       "  'casting director',\n",
       "  'production design',\n",
       "  'art direction',\n",
       "  'set decoration',\n",
       "  'costume designer',\n",
       "  'make up',\n",
       "  'production manager',\n",
       "  'assistant director',\n",
       "  'art department',\n",
       "  'sound crew',\n",
       "  'special effects',\n",
       "  'visual effects',\n",
       "  'stunt performer',\n",
       "  'camera and electrical department',\n",
       "  'casting department',\n",
       "  'costume department',\n",
       "  'location management',\n",
       "  'music department',\n",
       "  'script department',\n",
       "  'transportation department',\n",
       "  'miscellaneous crew',\n",
       "  'thanks',\n",
       "  'akas',\n",
       "  'top 250 rank',\n",
       "  'production companies',\n",
       "  'distributors',\n",
       "  'special effects companies',\n",
       "  'other companies'],\n",
       " 'plot': ['plot', 'synopsis'],\n",
       " 'taglines': ['taglines'],\n",
       " 'business': [],\n",
       " 'technical': ['tech']}"
      ]
     },
     "execution_count": 15,
     "metadata": {},
     "output_type": "execute_result"
    }
   ],
   "execution_count": 15
  },
  {
   "metadata": {},
   "cell_type": "code",
   "outputs": [],
   "execution_count": null,
   "source": [
    "movies_df = pd.DataFrame(movie_results)\n",
    "movies_df.to_csv('movies_data.csv', index=False)\n",
    "\n",
    "personnel_df = pd.DataFrame(personnel_data)\n",
    "personnel_df.to_csv('personnel_data.csv', index=False)"
   ],
   "id": "2c8c1bfbcf7d9f58"
  },
  {
   "metadata": {},
   "cell_type": "code",
   "outputs": [],
   "execution_count": null,
   "source": "pd.read_csv('movies_data.csv').head()",
   "id": "7067d02c8a44284b"
  },
  {
   "metadata": {},
   "cell_type": "code",
   "outputs": [],
   "execution_count": null,
   "source": "pd.read_csv('personnel_data.csv').head()",
   "id": "925713518375a9b6"
  }
 ],
 "metadata": {
  "kernelspec": {
   "display_name": "Python 3",
   "language": "python",
   "name": "python3"
  },
  "language_info": {
   "codemirror_mode": {
    "name": "ipython",
    "version": 2
   },
   "file_extension": ".py",
   "mimetype": "text/x-python",
   "name": "python",
   "nbconvert_exporter": "python",
   "pygments_lexer": "ipython2",
   "version": "2.7.6"
  }
 },
 "nbformat": 4,
 "nbformat_minor": 5
}
